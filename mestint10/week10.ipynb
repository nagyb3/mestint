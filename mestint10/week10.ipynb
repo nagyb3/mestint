{
 "cells": [
  {
   "cell_type": "code",
   "execution_count": 2,
   "metadata": {},
   "outputs": [
    {
     "ename": "ModuleNotFoundError",
     "evalue": "No module named 'tensorflow'",
     "output_type": "error",
     "traceback": [
      "\u001b[0;31m---------------------------------------------------------------------------\u001b[0m",
      "\u001b[0;31mModuleNotFoundError\u001b[0m                       Traceback (most recent call last)",
      "Cell \u001b[0;32mIn[2], line 1\u001b[0m\n\u001b[0;32m----> 1\u001b[0m \u001b[38;5;28;01mimport\u001b[39;00m \u001b[38;5;21;01mtensorflow\u001b[39;00m\u001b[38;5;21;01m.\u001b[39;00m\u001b[38;5;21;01mkeras\u001b[39;00m \u001b[38;5;28;01mas\u001b[39;00m \u001b[38;5;21;01mkeras\u001b[39;00m\n",
      "\u001b[0;31mModuleNotFoundError\u001b[0m: No module named 'tensorflow'"
     ]
    }
   ],
   "source": [
    "# 2 fajta van: regression és classification\n",
    "\n",
    "# keras: neuralis halozat definialasa regiression.ipynb\n",
    "# model = Sequential([.....])\n",
    "# regresszio: utolso dense-ben 1 van\n",
    "\n",
    "# itt paramterek beallitasa: zh-ban pl:\n",
    "# optimzer = keras.optimizer.Adam(learning_rate=0.01, loss=\"mean_squared_error\")\n",
    "# learning rate: gradiens mennyit megy az adott iranyba\n",
    "# loss: milyen hibat hasznalunk\n",
    "# regresion: mindig mean_squared_error kell\n",
    "\n",
    "# betanitas:\n",
    "# history = model.fit(.....)\n",
    "# batch size: pl 32\n"
   ]
  },
  {
   "cell_type": "code",
   "execution_count": null,
   "metadata": {},
   "outputs": [],
   "source": [
    "# classification:\n",
    "# binaris és nem binaris osztalyozas soran mass loss-függényt kell használni\n",
    "\n",
    "# osztályozási kimenetek száma Dense-nél amennyi osztály van\n",
    "# loss függvény:\n",
    "# binar: binary_crossentropy\n",
    "# nem binar: categorical_crossentropy\n",
    "\n",
    "# metrics ? (tipikus: accuracy)\n",
    "\n",
    "# activation=\"softmax\" ha crossentropy-t használunk"
   ]
  }
 ],
 "metadata": {
  "kernelspec": {
   "display_name": "Python 3",
   "language": "python",
   "name": "python3"
  },
  "language_info": {
   "codemirror_mode": {
    "name": "ipython",
    "version": 3
   },
   "file_extension": ".py",
   "mimetype": "text/x-python",
   "name": "python",
   "nbconvert_exporter": "python",
   "pygments_lexer": "ipython3",
   "version": "3.12.0"
  }
 },
 "nbformat": 4,
 "nbformat_minor": 2
}
